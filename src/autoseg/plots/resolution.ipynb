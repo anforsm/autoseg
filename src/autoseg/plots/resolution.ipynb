{
 "cells": [
  {
   "cell_type": "code",
   "execution_count": 14,
   "metadata": {},
   "outputs": [
    {
     "name": "stdout",
     "output_type": "stream",
     "text": [
      "The autoreload extension is already loaded. To reload it, use:\n",
      "  %reload_ext autoreload\n"
     ]
    }
   ],
   "source": [
    "%load_ext autoreload\n",
    "%autoreload 2\n",
    "import matplotlib.pyplot as plt\n",
    "import numpy as np\n",
    "import json\n",
    "import glob\n",
    "import wandb\n",
    "import pandas as pd\n",
    "import seaborn as sns\n",
    "from utils import *"
   ]
  },
  {
   "cell_type": "code",
   "execution_count": 15,
   "metadata": {},
   "outputs": [
    {
     "name": "stdout",
     "output_type": "stream",
     "text": [
      "['/home/anton/github/autoseg/src/autoseg/artifacts/UNet_s0/results/step-75000/result.json', '/home/anton/github/autoseg/src/autoseg/artifacts/UNet_s0/results/step-200000/result.json', '/home/anton/github/autoseg/src/autoseg/artifacts/UNet_s0/results/step-125000/result.json', '/home/anton/github/autoseg/src/autoseg/artifacts/UNet_s0/results/step-150000/result.json', '/home/anton/github/autoseg/src/autoseg/artifacts/UNet_s0/results/step-25000/result.json', '/home/anton/github/autoseg/src/autoseg/artifacts/UNet_s0/results/step-175000/result.json', '/home/anton/github/autoseg/src/autoseg/artifacts/UNet_s0/results/step-50000/result.json', '/home/anton/github/autoseg/src/autoseg/artifacts/UNet_s0/results/step-100000/result.json']\n",
      "['/home/anton/github/autoseg/src/autoseg/artifacts/UNet_s0/results/step-75000/result.json', '/home/anton/github/autoseg/src/autoseg/artifacts/UNet_s0/results/step-200000/result.json', '/home/anton/github/autoseg/src/autoseg/artifacts/UNet_s0/results/step-125000/result.json', '/home/anton/github/autoseg/src/autoseg/artifacts/UNet_s0/results/step-150000/result.json', '/home/anton/github/autoseg/src/autoseg/artifacts/UNet_s0/results/step-25000/result.json', '/home/anton/github/autoseg/src/autoseg/artifacts/UNet_s0/results/step-175000/result.json', '/home/anton/github/autoseg/src/autoseg/artifacts/UNet_s0/results/step-50000/result.json', '/home/anton/github/autoseg/src/autoseg/artifacts/UNet_s0/results/step-100000/result.json']\n",
      "['/home/anton/github/autoseg/src/autoseg/artifacts/UNet_s1/results/step-75000/result.json', '/home/anton/github/autoseg/src/autoseg/artifacts/UNet_s1/results/step-200000/result.json', '/home/anton/github/autoseg/src/autoseg/artifacts/UNet_s1/results/step-125000/result.json', '/home/anton/github/autoseg/src/autoseg/artifacts/UNet_s1/results/step-150000/result.json', '/home/anton/github/autoseg/src/autoseg/artifacts/UNet_s1/results/step-25000/result.json', '/home/anton/github/autoseg/src/autoseg/artifacts/UNet_s1/results/step-175000/result.json', '/home/anton/github/autoseg/src/autoseg/artifacts/UNet_s1/results/step-50000/result.json', '/home/anton/github/autoseg/src/autoseg/artifacts/UNet_s1/results/step-100000/result.json']\n",
      "['/home/anton/github/autoseg/src/autoseg/artifacts/UNet_s2/results/step-75000/result.json', '/home/anton/github/autoseg/src/autoseg/artifacts/UNet_s2/results/step-200000/result.json', '/home/anton/github/autoseg/src/autoseg/artifacts/UNet_s2/results/step-125000/result.json', '/home/anton/github/autoseg/src/autoseg/artifacts/UNet_s2/results/step-150000/result.json', '/home/anton/github/autoseg/src/autoseg/artifacts/UNet_s2/results/step-25000/result.json', '/home/anton/github/autoseg/src/autoseg/artifacts/UNet_s2/results/step-175000/result.json', '/home/anton/github/autoseg/src/autoseg/artifacts/UNet_s2/results/step-50000/result.json', '/home/anton/github/autoseg/src/autoseg/artifacts/UNet_s2/results/step-100000/result.json']\n"
     ]
    }
   ],
   "source": [
    "graph_conf = {\n",
    "  \"[50, 2, 2]\": [\"UNet s0\"],\n",
    "  \"[50, 4, 4]\": [\"UNet s1\"],\n",
    "  \"[50, 8, 8]\": [\"UNet s2\"],\n",
    "}\n",
    "df = create_dataframe(graph_conf)\n",
    "df.rename(columns=c, inplace=True)"
   ]
  },
  {
   "cell_type": "code",
   "execution_count": 16,
   "metadata": {},
   "outputs": [],
   "source": [
    "best_edits_idx = df.groupby(\"Model Type\")[c[\"skel_mods\"]].idxmin()\n",
    "df = df.loc[best_edits_idx]"
   ]
  },
  {
   "cell_type": "code",
   "execution_count": 17,
   "metadata": {},
   "outputs": [],
   "source": [
    "df.rename(columns={\"Model Type\": \"Voxel Resolution\"}, inplace=True)"
   ]
  },
  {
   "cell_type": "code",
   "execution_count": 20,
   "metadata": {},
   "outputs": [
    {
     "data": {
      "text/html": [
       "<div>\n",
       "<style scoped>\n",
       "    .dataframe tbody tr th:only-of-type {\n",
       "        vertical-align: middle;\n",
       "    }\n",
       "\n",
       "    .dataframe tbody tr th {\n",
       "        vertical-align: top;\n",
       "    }\n",
       "\n",
       "    .dataframe thead th {\n",
       "        text-align: right;\n",
       "    }\n",
       "</style>\n",
       "<table border=\"1\" class=\"dataframe\">\n",
       "  <thead>\n",
       "    <tr style=\"text-align: right;\">\n",
       "      <th></th>\n",
       "      <th>Voxel Resolution</th>\n",
       "      <th>NVI Split</th>\n",
       "      <th>NVI Merge</th>\n",
       "      <th>NVI</th>\n",
       "      <th>Edits per Object</th>\n",
       "      <th>Edits per Path Length (nm)</th>\n",
       "      <th>Split Edits per Segment</th>\n",
       "      <th>Merge Edits per Segment</th>\n",
       "    </tr>\n",
       "  </thead>\n",
       "  <tbody>\n",
       "    <tr>\n",
       "      <th>6</th>\n",
       "      <td>[50, 2, 2]</td>\n",
       "      <td>0.453426</td>\n",
       "      <td>0.071718</td>\n",
       "      <td>0.525144</td>\n",
       "      <td>5.372973</td>\n",
       "      <td>0.001014</td>\n",
       "      <td>0.281617</td>\n",
       "      <td>4.205405</td>\n",
       "    </tr>\n",
       "    <tr>\n",
       "      <th>14</th>\n",
       "      <td>[50, 4, 4]</td>\n",
       "      <td>0.399837</td>\n",
       "      <td>0.081022</td>\n",
       "      <td>0.480859</td>\n",
       "      <td>3.454054</td>\n",
       "      <td>0.000652</td>\n",
       "      <td>0.315789</td>\n",
       "      <td>2.513514</td>\n",
       "    </tr>\n",
       "    <tr>\n",
       "      <th>23</th>\n",
       "      <td>[50, 8, 8]</td>\n",
       "      <td>0.370561</td>\n",
       "      <td>0.095181</td>\n",
       "      <td>0.465742</td>\n",
       "      <td>5.989189</td>\n",
       "      <td>0.001130</td>\n",
       "      <td>0.634195</td>\n",
       "      <td>4.264865</td>\n",
       "    </tr>\n",
       "  </tbody>\n",
       "</table>\n",
       "</div>"
      ],
      "text/plain": [
       "   Voxel Resolution  NVI Split  NVI Merge       NVI  Edits per Object  \\\n",
       "6        [50, 2, 2]   0.453426   0.071718  0.525144          5.372973   \n",
       "14       [50, 4, 4]   0.399837   0.081022  0.480859          3.454054   \n",
       "23       [50, 8, 8]   0.370561   0.095181  0.465742          5.989189   \n",
       "\n",
       "    Edits per Path Length (nm)  Split Edits per Segment  \\\n",
       "6                     0.001014                 0.281617   \n",
       "14                    0.000652                 0.315789   \n",
       "23                    0.001130                 0.634195   \n",
       "\n",
       "    Merge Edits per Segment  \n",
       "6                  4.205405  \n",
       "14                 2.513514  \n",
       "23                 4.264865  "
      ]
     },
     "execution_count": 20,
     "metadata": {},
     "output_type": "execute_result"
    }
   ],
   "source": [
    "final_df = df[[\"Voxel Resolution\", c[\"nvi_split\"], c[\"nvi_merge\"], c[\"nvi_sum\"], c[\"mods_per_obj\"], c[\"mods_per_length\"], c[\"skel_split_per_seg\"], c[\"skel_merge_per_seg\"]]]\n",
    "final_df"
   ]
  },
  {
   "cell_type": "code",
   "execution_count": 27,
   "metadata": {},
   "outputs": [],
   "source": [
    "final_df.columns = pd.MultiIndex.from_tuples([\n",
    "  (\"Voxel Resolution\", \"\"),\n",
    "  (\"NVI\", \"Split\"),\n",
    "  (\"NVI\", \"Merge\"),\n",
    "  (\"NVI\", \"Sum\"),\n",
    "  (\"Skeleton\", \"Mods per Object\"),\n",
    "  (\"Skeleton\", \"Mods per Length\"),\n",
    "  (\"Skeleton\", \"Split per Segment\"),\n",
    "  (\"Skeleton\", \"Merge per Segment\"),\n",
    "])"
   ]
  },
  {
   "cell_type": "code",
   "execution_count": 28,
   "metadata": {},
   "outputs": [
    {
     "data": {
      "text/html": [
       "<div>\n",
       "<style scoped>\n",
       "    .dataframe tbody tr th:only-of-type {\n",
       "        vertical-align: middle;\n",
       "    }\n",
       "\n",
       "    .dataframe tbody tr th {\n",
       "        vertical-align: top;\n",
       "    }\n",
       "\n",
       "    .dataframe thead tr th {\n",
       "        text-align: left;\n",
       "    }\n",
       "</style>\n",
       "<table border=\"1\" class=\"dataframe\">\n",
       "  <thead>\n",
       "    <tr>\n",
       "      <th></th>\n",
       "      <th>Voxel Resolution</th>\n",
       "      <th colspan=\"3\" halign=\"left\">NVI</th>\n",
       "      <th colspan=\"4\" halign=\"left\">Skeleton</th>\n",
       "    </tr>\n",
       "    <tr>\n",
       "      <th></th>\n",
       "      <th></th>\n",
       "      <th>Split</th>\n",
       "      <th>Merge</th>\n",
       "      <th>Sum</th>\n",
       "      <th>Mods per Object</th>\n",
       "      <th>Mods per Length</th>\n",
       "      <th>Split per Segment</th>\n",
       "      <th>Merge per Segment</th>\n",
       "    </tr>\n",
       "  </thead>\n",
       "  <tbody>\n",
       "    <tr>\n",
       "      <th>6</th>\n",
       "      <td>[50, 2, 2]</td>\n",
       "      <td>0.453426</td>\n",
       "      <td>0.071718</td>\n",
       "      <td>0.525144</td>\n",
       "      <td>5.372973</td>\n",
       "      <td>0.001014</td>\n",
       "      <td>0.281617</td>\n",
       "      <td>4.205405</td>\n",
       "    </tr>\n",
       "    <tr>\n",
       "      <th>14</th>\n",
       "      <td>[50, 4, 4]</td>\n",
       "      <td>0.399837</td>\n",
       "      <td>0.081022</td>\n",
       "      <td>0.480859</td>\n",
       "      <td>3.454054</td>\n",
       "      <td>0.000652</td>\n",
       "      <td>0.315789</td>\n",
       "      <td>2.513514</td>\n",
       "    </tr>\n",
       "    <tr>\n",
       "      <th>23</th>\n",
       "      <td>[50, 8, 8]</td>\n",
       "      <td>0.370561</td>\n",
       "      <td>0.095181</td>\n",
       "      <td>0.465742</td>\n",
       "      <td>5.989189</td>\n",
       "      <td>0.001130</td>\n",
       "      <td>0.634195</td>\n",
       "      <td>4.264865</td>\n",
       "    </tr>\n",
       "  </tbody>\n",
       "</table>\n",
       "</div>"
      ],
      "text/plain": [
       "   Voxel Resolution       NVI                            Skeleton  \\\n",
       "                        Split     Merge       Sum Mods per Object   \n",
       "6        [50, 2, 2]  0.453426  0.071718  0.525144        5.372973   \n",
       "14       [50, 4, 4]  0.399837  0.081022  0.480859        3.454054   \n",
       "23       [50, 8, 8]  0.370561  0.095181  0.465742        5.989189   \n",
       "\n",
       "                                                        \n",
       "   Mods per Length Split per Segment Merge per Segment  \n",
       "6         0.001014          0.281617          4.205405  \n",
       "14        0.000652          0.315789          2.513514  \n",
       "23        0.001130          0.634195          4.264865  "
      ]
     },
     "execution_count": 28,
     "metadata": {},
     "output_type": "execute_result"
    }
   ],
   "source": [
    "final_df"
   ]
  },
  {
   "cell_type": "code",
   "execution_count": 29,
   "metadata": {},
   "outputs": [
    {
     "name": "stdout",
     "output_type": "stream",
     "text": [
      "\\begin{tabular}{lrrrrrrr}\n",
      "\\toprule\n",
      "Voxel Resolution & \\multicolumn{3}{r}{NVI} & \\multicolumn{4}{r}{Skeleton} \\\\\n",
      " & Split & Merge & Sum & Mods per Object & Mods per Length & Split per Segment & Merge per Segment \\\\\n",
      "\\midrule\n",
      "[50, 2, 2] & 0.453426 & 0.071718 & 0.525144 & 5.372973 & 0.001014 & 0.281617 & 4.205405 \\\\\n",
      "[50, 4, 4] & 0.399837 & 0.081022 & 0.480859 & 3.454054 & 0.000652 & 0.315789 & 2.513514 \\\\\n",
      "[50, 8, 8] & 0.370561 & 0.095181 & 0.465742 & 5.989189 & 0.001130 & 0.634195 & 4.264865 \\\\\n",
      "\\bottomrule\n",
      "\\end{tabular}\n",
      "\n"
     ]
    }
   ],
   "source": [
    "print(final_df.to_latex(index=False))"
   ]
  }
 ],
 "metadata": {
  "kernelspec": {
   "display_name": "segmentation",
   "language": "python",
   "name": "python3"
  },
  "language_info": {
   "codemirror_mode": {
    "name": "ipython",
    "version": 3
   },
   "file_extension": ".py",
   "mimetype": "text/x-python",
   "name": "python",
   "nbconvert_exporter": "python",
   "pygments_lexer": "ipython3",
   "version": "3.9.18"
  }
 },
 "nbformat": 4,
 "nbformat_minor": 2
}
