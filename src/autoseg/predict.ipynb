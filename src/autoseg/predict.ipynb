{
 "cells": [
  {
   "cell_type": "code",
   "execution_count": 1,
   "metadata": {},
   "outputs": [],
   "source": [
    "import zarr"
   ]
  },
  {
   "cell_type": "code",
   "execution_count": 43,
   "metadata": {},
   "outputs": [],
   "source": [
    "from funlib.persistence import prepare_ds\n",
    "from gunpowder import Coordinate, Roi"
   ]
  },
  {
   "cell_type": "code",
   "execution_count": 41,
   "metadata": {},
   "outputs": [],
   "source": [
    "o_path = \n",
    "o_ds = "
   ]
  },
  {
   "cell_type": "code",
   "execution_count": 49,
   "metadata": {},
   "outputs": [
    {
     "data": {
      "text/plain": [
       "<funlib.persistence.arrays.array.Array at 0x79c11b86dca0>"
      ]
     },
     "execution_count": 49,
     "metadata": {},
     "output_type": "execute_result"
    }
   ],
   "source": [
    "prepare_ds(\n",
    "  \"/home/anton/github/autoseg/src/autoseg/out_zarr.zarr\", \n",
    "  \"pred_affs\", \n",
    "  Roi((600, 92, 92), (3350, 11320, 11840)),\n",
    "  Coordinate([50, 2, 2]), \n",
    "  dtype=\"uint8\",\n",
    "  delete=True\n",
    ")"
   ]
  },
  {
   "cell_type": "code",
   "execution_count": 26,
   "metadata": {},
   "outputs": [],
   "source": [
    "path = \"/home/anton/.cache/autoseg/datasets/SynapseWeb/kh2015/data/oblique.zarr.zip\"\n",
    "source = zarr.open(path)"
   ]
  },
  {
   "cell_type": "code",
   "execution_count": 27,
   "metadata": {},
   "outputs": [
    {
     "data": {
      "text/plain": [
       "zarr.hierarchy.Group"
      ]
     },
     "execution_count": 27,
     "metadata": {},
     "output_type": "execute_result"
    }
   ],
   "source": [
    "type(source[\"raw\"])"
   ]
  },
  {
   "cell_type": "code",
   "execution_count": 29,
   "metadata": {},
   "outputs": [],
   "source": [
    "ds = source[\"raw\"]"
   ]
  },
  {
   "cell_type": "code",
   "execution_count": 38,
   "metadata": {},
   "outputs": [
    {
     "data": {
      "text/plain": [
       "<zarr.hierarchy.Group '/raw'>"
      ]
     },
     "execution_count": 38,
     "metadata": {},
     "output_type": "execute_result"
    }
   ],
   "source": [
    "ds"
   ]
  },
  {
   "cell_type": "code",
   "execution_count": null,
   "metadata": {},
   "outputs": [],
   "source": []
  },
  {
   "cell_type": "code",
   "execution_count": 20,
   "metadata": {},
   "outputs": [
    {
     "data": {
      "text/plain": [
       "'/home/anton/.cache/autoseg/datasets/SynapseWeb/kh2015/oblique.zarr.zip'"
      ]
     },
     "execution_count": 20,
     "metadata": {},
     "output_type": "execute_result"
    }
   ],
   "source": [
    "ds.store.path"
   ]
  },
  {
   "cell_type": "code",
   "execution_count": 22,
   "metadata": {},
   "outputs": [
    {
     "data": {
      "text/plain": [
       "'raw'"
      ]
     },
     "execution_count": 22,
     "metadata": {},
     "output_type": "execute_result"
    }
   ],
   "source": [
    "ds.path"
   ]
  },
  {
   "cell_type": "code",
   "execution_count": 16,
   "metadata": {},
   "outputs": [
    {
     "name": "stdout",
     "output_type": "stream",
     "text": [
      "\u001b[0;31mType:\u001b[0m        Group\n",
      "\u001b[0;31mString form:\u001b[0m <zarr.hierarchy.Group '/raw'>\n",
      "\u001b[0;31mLength:\u001b[0m      3\n",
      "\u001b[0;31mFile:\u001b[0m        ~/miniforge3/envs/segmentation/lib/python3.9/site-packages/zarr/hierarchy.py\n",
      "\u001b[0;31mDocstring:\u001b[0m  \n",
      "Instantiate a group from an initialized store.\n",
      "\n",
      "Parameters\n",
      "----------\n",
      "store : MutableMapping\n",
      "    Group store, already initialized.\n",
      "    If the Group is used in a context manager, and the store has a ``close`` method,\n",
      "    it will be called on exit.\n",
      "path : string, optional\n",
      "    Group path.\n",
      "read_only : bool, optional\n",
      "    True if group should be protected against modification.\n",
      "chunk_store : MutableMapping, optional\n",
      "    Separate storage for chunks. If not provided, `store` will be used\n",
      "    for storage of both chunks and metadata.\n",
      "cache_attrs : bool, optional\n",
      "    If True (default), user attributes will be cached for attribute read\n",
      "    operations. If False, user attributes are reloaded from the store prior\n",
      "    to all attribute read operations.\n",
      "synchronizer : object, optional\n",
      "    Array synchronizer.\n",
      "\n",
      "meta_array : array-like, optional\n",
      "    An array instance to use for determining arrays to create and return\n",
      "    to users. Use `numpy.empty(())` by default.\n",
      "\n",
      "    .. versionadded:: 2.13\n",
      "\n",
      "Attributes\n",
      "----------\n",
      "store\n",
      "path\n",
      "name\n",
      "read_only\n",
      "chunk_store\n",
      "synchronizer\n",
      "attrs\n",
      "info\n",
      "meta_array\n",
      "\n",
      "Methods\n",
      "-------\n",
      "__len__\n",
      "__iter__\n",
      "__contains__\n",
      "__getitem__\n",
      "__enter__\n",
      "__exit__\n",
      "group_keys\n",
      "groups\n",
      "array_keys\n",
      "arrays\n",
      "visit\n",
      "visitkeys\n",
      "visitvalues\n",
      "visititems\n",
      "tree\n",
      "create_group\n",
      "require_group\n",
      "create_groups\n",
      "require_groups\n",
      "create_dataset\n",
      "require_dataset\n",
      "create\n",
      "empty\n",
      "zeros\n",
      "ones\n",
      "full\n",
      "array\n",
      "empty_like\n",
      "zeros_like\n",
      "ones_like\n",
      "full_like\n",
      "info\n",
      "move"
     ]
    }
   ],
   "source": [
    "ds?"
   ]
  },
  {
   "cell_type": "code",
   "execution_count": null,
   "metadata": {},
   "outputs": [],
   "source": []
  },
  {
   "cell_type": "code",
   "execution_count": null,
   "metadata": {},
   "outputs": [],
   "source": []
  },
  {
   "cell_type": "code",
   "execution_count": null,
   "metadata": {},
   "outputs": [],
   "source": []
  }
 ],
 "metadata": {
  "kernelspec": {
   "display_name": "segmentation",
   "language": "python",
   "name": "python3"
  },
  "language_info": {
   "codemirror_mode": {
    "name": "ipython",
    "version": 3
   },
   "file_extension": ".py",
   "mimetype": "text/x-python",
   "name": "python",
   "nbconvert_exporter": "python",
   "pygments_lexer": "ipython3",
   "version": "3.9.18"
  }
 },
 "nbformat": 4,
 "nbformat_minor": 2
}
