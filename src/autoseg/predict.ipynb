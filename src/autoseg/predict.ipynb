{
 "cells": [
  {
   "cell_type": "code",
   "execution_count": 1,
   "metadata": {},
   "outputs": [],
   "source": [
    "import zarr"
   ]
  },
  {
   "cell_type": "code",
   "execution_count": 43,
   "metadata": {},
   "outputs": [],
   "source": [
    "from funlib.persistence import prepare_ds\n",
    "from gunpowder import Coordinate, Roi"
   ]
  },
  {
   "cell_type": "code",
   "execution_count": 41,
   "metadata": {},
   "outputs": [],
   "source": [
    "o_path = \n",
    "o_ds = "
   ]
  },
  {
   "cell_type": "code",
   "execution_count": 45,
   "metadata": {},
   "outputs": [
    {
     "ename": "AttributeError",
     "evalue": "",
     "output_type": "error",
     "traceback": [
      "\u001b[0;31m---------------------------------------------------------------------------\u001b[0m",
      "\u001b[0;31mKeyError\u001b[0m                                  Traceback (most recent call last)",
      "File \u001b[0;32m~/miniforge3/envs/segmentation/lib/python3.9/site-packages/zarr/hierarchy.py:520\u001b[0m, in \u001b[0;36mGroup.__getattr__\u001b[0;34m(self, item)\u001b[0m\n\u001b[1;32m    519\u001b[0m \u001b[38;5;28;01mtry\u001b[39;00m:\n\u001b[0;32m--> 520\u001b[0m     \u001b[38;5;28;01mreturn\u001b[39;00m \u001b[38;5;28;43mself\u001b[39;49m\u001b[38;5;241;43m.\u001b[39;49m\u001b[38;5;21;43m__getitem__\u001b[39;49m\u001b[43m(\u001b[49m\u001b[43mitem\u001b[49m\u001b[43m)\u001b[49m\n\u001b[1;32m    521\u001b[0m \u001b[38;5;28;01mexcept\u001b[39;00m \u001b[38;5;167;01mKeyError\u001b[39;00m:\n",
      "File \u001b[0;32m~/miniforge3/envs/segmentation/lib/python3.9/site-packages/zarr/hierarchy.py:500\u001b[0m, in \u001b[0;36mGroup.__getitem__\u001b[0;34m(self, item)\u001b[0m\n\u001b[1;32m    499\u001b[0m \u001b[38;5;28;01melse\u001b[39;00m:\n\u001b[0;32m--> 500\u001b[0m     \u001b[38;5;28;01mraise\u001b[39;00m \u001b[38;5;167;01mKeyError\u001b[39;00m(item)\n",
      "\u001b[0;31mKeyError\u001b[0m: 'order'",
      "\nDuring handling of the above exception, another exception occurred:\n",
      "\u001b[0;31mAttributeError\u001b[0m                            Traceback (most recent call last)",
      "Cell \u001b[0;32mIn[45], line 1\u001b[0m\n\u001b[0;32m----> 1\u001b[0m \u001b[43mprepare_ds\u001b[49m\u001b[43m(\u001b[49m\n\u001b[1;32m      2\u001b[0m \u001b[43m  \u001b[49m\u001b[43mo_path\u001b[49m\u001b[43m,\u001b[49m\u001b[43m \u001b[49m\n\u001b[1;32m      3\u001b[0m \u001b[43m  \u001b[49m\u001b[43mo_ds\u001b[49m\u001b[43m,\u001b[49m\u001b[43m \u001b[49m\n\u001b[1;32m      4\u001b[0m \u001b[43m  \u001b[49m\u001b[43mRoi\u001b[49m\u001b[43m(\u001b[49m\u001b[43m(\u001b[49m\u001b[38;5;241;43m600\u001b[39;49m\u001b[43m,\u001b[49m\u001b[43m \u001b[49m\u001b[38;5;241;43m92\u001b[39;49m\u001b[43m,\u001b[49m\u001b[43m \u001b[49m\u001b[38;5;241;43m92\u001b[39;49m\u001b[43m)\u001b[49m\u001b[43m,\u001b[49m\u001b[43m \u001b[49m\u001b[43m(\u001b[49m\u001b[38;5;241;43m3350\u001b[39;49m\u001b[43m,\u001b[49m\u001b[43m \u001b[49m\u001b[38;5;241;43m11320\u001b[39;49m\u001b[43m,\u001b[49m\u001b[43m \u001b[49m\u001b[38;5;241;43m11840\u001b[39;49m\u001b[43m)\u001b[49m\u001b[43m)\u001b[49m\u001b[43m,\u001b[49m\n\u001b[1;32m      5\u001b[0m \u001b[43m  \u001b[49m\u001b[43mCoordinate\u001b[49m\u001b[43m(\u001b[49m\u001b[43m[\u001b[49m\u001b[38;5;241;43m50\u001b[39;49m\u001b[43m,\u001b[49m\u001b[43m \u001b[49m\u001b[38;5;241;43m2\u001b[39;49m\u001b[43m,\u001b[49m\u001b[43m \u001b[49m\u001b[38;5;241;43m2\u001b[39;49m\u001b[43m]\u001b[49m\u001b[43m)\u001b[49m\u001b[43m,\u001b[49m\u001b[43m \u001b[49m\n\u001b[1;32m      6\u001b[0m \u001b[43m  \u001b[49m\u001b[43mdtype\u001b[49m\u001b[38;5;241;43m=\u001b[39;49m\u001b[38;5;124;43m\"\u001b[39;49m\u001b[38;5;124;43muint8\u001b[39;49m\u001b[38;5;124;43m\"\u001b[39;49m\n\u001b[1;32m      7\u001b[0m \u001b[43m)\u001b[49m\n",
      "File \u001b[0;32m~/miniforge3/envs/segmentation/lib/python3.9/site-packages/funlib/persistence/arrays/datasets.py:331\u001b[0m, in \u001b[0;36mprepare_ds\u001b[0;34m(filename, ds_name, total_roi, voxel_size, dtype, write_roi, write_size, num_channels, compressor, delete, force_exact_write_size)\u001b[0m\n\u001b[1;32m    329\u001b[0m \u001b[38;5;28;01melse\u001b[39;00m:\n\u001b[1;32m    330\u001b[0m     logger\u001b[38;5;241m.\u001b[39mdebug(\u001b[38;5;124m\"\u001b[39m\u001b[38;5;124mTrying to reuse existing dataset \u001b[39m\u001b[38;5;132;01m%s\u001b[39;00m\u001b[38;5;124m in \u001b[39m\u001b[38;5;132;01m%s\u001b[39;00m\u001b[38;5;124m...\u001b[39m\u001b[38;5;124m\"\u001b[39m, ds_name, filename)\n\u001b[0;32m--> 331\u001b[0m     ds \u001b[38;5;241m=\u001b[39m \u001b[43mopen_ds\u001b[49m\u001b[43m(\u001b[49m\u001b[43mfilename\u001b[49m\u001b[43m,\u001b[49m\u001b[43m \u001b[49m\u001b[43mds_name\u001b[49m\u001b[43m,\u001b[49m\u001b[43m \u001b[49m\u001b[43mmode\u001b[49m\u001b[38;5;241;43m=\u001b[39;49m\u001b[38;5;124;43m\"\u001b[39;49m\u001b[38;5;124;43ma\u001b[39;49m\u001b[38;5;124;43m\"\u001b[39;49m\u001b[43m)\u001b[49m\n\u001b[1;32m    333\u001b[0m     compatible \u001b[38;5;241m=\u001b[39m \u001b[38;5;28;01mTrue\u001b[39;00m\n\u001b[1;32m    335\u001b[0m     \u001b[38;5;28;01mif\u001b[39;00m ds\u001b[38;5;241m.\u001b[39mshape \u001b[38;5;241m!=\u001b[39m shape:\n",
      "File \u001b[0;32m~/miniforge3/envs/segmentation/lib/python3.9/site-packages/funlib/persistence/arrays/datasets.py:120\u001b[0m, in \u001b[0;36mopen_ds\u001b[0;34m(filename, ds_name, mode)\u001b[0m\n\u001b[1;32m    117\u001b[0m     logger\u001b[38;5;241m.\u001b[39merror(\u001b[38;5;124m\"\u001b[39m\u001b[38;5;124mfailed to open \u001b[39m\u001b[38;5;132;01m%s\u001b[39;00m\u001b[38;5;124m/\u001b[39m\u001b[38;5;132;01m%s\u001b[39;00m\u001b[38;5;124m\"\u001b[39m \u001b[38;5;241m%\u001b[39m (filename, ds_name))\n\u001b[1;32m    118\u001b[0m     \u001b[38;5;28;01mraise\u001b[39;00m e\n\u001b[0;32m--> 120\u001b[0m voxel_size, offset \u001b[38;5;241m=\u001b[39m _read_voxel_size_offset(ds, \u001b[43mds\u001b[49m\u001b[38;5;241;43m.\u001b[39;49m\u001b[43morder\u001b[49m)\n\u001b[1;32m    121\u001b[0m shape \u001b[38;5;241m=\u001b[39m Coordinate(ds\u001b[38;5;241m.\u001b[39mshape[\u001b[38;5;241m-\u001b[39m\u001b[38;5;28mlen\u001b[39m(voxel_size) :])\n\u001b[1;32m    122\u001b[0m roi \u001b[38;5;241m=\u001b[39m Roi(offset, voxel_size \u001b[38;5;241m*\u001b[39m shape)\n",
      "File \u001b[0;32m~/miniforge3/envs/segmentation/lib/python3.9/site-packages/zarr/hierarchy.py:522\u001b[0m, in \u001b[0;36mGroup.__getattr__\u001b[0;34m(self, item)\u001b[0m\n\u001b[1;32m    520\u001b[0m     \u001b[38;5;28;01mreturn\u001b[39;00m \u001b[38;5;28mself\u001b[39m\u001b[38;5;241m.\u001b[39m\u001b[38;5;21m__getitem__\u001b[39m(item)\n\u001b[1;32m    521\u001b[0m \u001b[38;5;28;01mexcept\u001b[39;00m \u001b[38;5;167;01mKeyError\u001b[39;00m:\n\u001b[0;32m--> 522\u001b[0m     \u001b[38;5;28;01mraise\u001b[39;00m \u001b[38;5;167;01mAttributeError\u001b[39;00m\n",
      "\u001b[0;31mAttributeError\u001b[0m: "
     ]
    }
   ],
   "source": [
    "prepare_ds(\n",
    "  \"/home/anton/github/autoseg/src/autoseg/out_zarr.zarr\", \n",
    "  \"pred_affs\", \n",
    "  Roi((600, 92, 92), (3350, 11320, 11840)),\n",
    "  Coordinate([50, 2, 2]), \n",
    "  dtype=\"uint8\"\n",
    ")"
   ]
  },
  {
   "cell_type": "code",
   "execution_count": 26,
   "metadata": {},
   "outputs": [],
   "source": [
    "path = \"/home/anton/.cache/autoseg/datasets/SynapseWeb/kh2015/data/oblique.zarr.zip\"\n",
    "source = zarr.open(path)"
   ]
  },
  {
   "cell_type": "code",
   "execution_count": 27,
   "metadata": {},
   "outputs": [
    {
     "data": {
      "text/plain": [
       "zarr.hierarchy.Group"
      ]
     },
     "execution_count": 27,
     "metadata": {},
     "output_type": "execute_result"
    }
   ],
   "source": [
    "type(source[\"raw\"])"
   ]
  },
  {
   "cell_type": "code",
   "execution_count": 29,
   "metadata": {},
   "outputs": [],
   "source": [
    "ds = source[\"raw\"]"
   ]
  },
  {
   "cell_type": "code",
   "execution_count": 38,
   "metadata": {},
   "outputs": [
    {
     "data": {
      "text/plain": [
       "<zarr.hierarchy.Group '/raw'>"
      ]
     },
     "execution_count": 38,
     "metadata": {},
     "output_type": "execute_result"
    }
   ],
   "source": [
    "ds"
   ]
  },
  {
   "cell_type": "code",
   "execution_count": null,
   "metadata": {},
   "outputs": [],
   "source": []
  },
  {
   "cell_type": "code",
   "execution_count": 20,
   "metadata": {},
   "outputs": [
    {
     "data": {
      "text/plain": [
       "'/home/anton/.cache/autoseg/datasets/SynapseWeb/kh2015/oblique.zarr.zip'"
      ]
     },
     "execution_count": 20,
     "metadata": {},
     "output_type": "execute_result"
    }
   ],
   "source": [
    "ds.store.path"
   ]
  },
  {
   "cell_type": "code",
   "execution_count": 22,
   "metadata": {},
   "outputs": [
    {
     "data": {
      "text/plain": [
       "'raw'"
      ]
     },
     "execution_count": 22,
     "metadata": {},
     "output_type": "execute_result"
    }
   ],
   "source": [
    "ds.path"
   ]
  },
  {
   "cell_type": "code",
   "execution_count": 16,
   "metadata": {},
   "outputs": [
    {
     "name": "stdout",
     "output_type": "stream",
     "text": [
      "\u001b[0;31mType:\u001b[0m        Group\n",
      "\u001b[0;31mString form:\u001b[0m <zarr.hierarchy.Group '/raw'>\n",
      "\u001b[0;31mLength:\u001b[0m      3\n",
      "\u001b[0;31mFile:\u001b[0m        ~/miniforge3/envs/segmentation/lib/python3.9/site-packages/zarr/hierarchy.py\n",
      "\u001b[0;31mDocstring:\u001b[0m  \n",
      "Instantiate a group from an initialized store.\n",
      "\n",
      "Parameters\n",
      "----------\n",
      "store : MutableMapping\n",
      "    Group store, already initialized.\n",
      "    If the Group is used in a context manager, and the store has a ``close`` method,\n",
      "    it will be called on exit.\n",
      "path : string, optional\n",
      "    Group path.\n",
      "read_only : bool, optional\n",
      "    True if group should be protected against modification.\n",
      "chunk_store : MutableMapping, optional\n",
      "    Separate storage for chunks. If not provided, `store` will be used\n",
      "    for storage of both chunks and metadata.\n",
      "cache_attrs : bool, optional\n",
      "    If True (default), user attributes will be cached for attribute read\n",
      "    operations. If False, user attributes are reloaded from the store prior\n",
      "    to all attribute read operations.\n",
      "synchronizer : object, optional\n",
      "    Array synchronizer.\n",
      "\n",
      "meta_array : array-like, optional\n",
      "    An array instance to use for determining arrays to create and return\n",
      "    to users. Use `numpy.empty(())` by default.\n",
      "\n",
      "    .. versionadded:: 2.13\n",
      "\n",
      "Attributes\n",
      "----------\n",
      "store\n",
      "path\n",
      "name\n",
      "read_only\n",
      "chunk_store\n",
      "synchronizer\n",
      "attrs\n",
      "info\n",
      "meta_array\n",
      "\n",
      "Methods\n",
      "-------\n",
      "__len__\n",
      "__iter__\n",
      "__contains__\n",
      "__getitem__\n",
      "__enter__\n",
      "__exit__\n",
      "group_keys\n",
      "groups\n",
      "array_keys\n",
      "arrays\n",
      "visit\n",
      "visitkeys\n",
      "visitvalues\n",
      "visititems\n",
      "tree\n",
      "create_group\n",
      "require_group\n",
      "create_groups\n",
      "require_groups\n",
      "create_dataset\n",
      "require_dataset\n",
      "create\n",
      "empty\n",
      "zeros\n",
      "ones\n",
      "full\n",
      "array\n",
      "empty_like\n",
      "zeros_like\n",
      "ones_like\n",
      "full_like\n",
      "info\n",
      "move"
     ]
    }
   ],
   "source": [
    "ds?"
   ]
  },
  {
   "cell_type": "code",
   "execution_count": null,
   "metadata": {},
   "outputs": [],
   "source": []
  },
  {
   "cell_type": "code",
   "execution_count": null,
   "metadata": {},
   "outputs": [],
   "source": []
  },
  {
   "cell_type": "code",
   "execution_count": null,
   "metadata": {},
   "outputs": [],
   "source": []
  }
 ],
 "metadata": {
  "kernelspec": {
   "display_name": "segmentation",
   "language": "python",
   "name": "python3"
  },
  "language_info": {
   "codemirror_mode": {
    "name": "ipython",
    "version": 3
   },
   "file_extension": ".py",
   "mimetype": "text/x-python",
   "name": "python",
   "nbconvert_exporter": "python",
   "pygments_lexer": "ipython3",
   "version": "3.9.18"
  }
 },
 "nbformat": 4,
 "nbformat_minor": 2
}
