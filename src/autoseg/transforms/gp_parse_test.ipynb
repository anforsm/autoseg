{
 "cells": [
  {
   "cell_type": "code",
   "execution_count": 1,
   "metadata": {},
   "outputs": [],
   "source": [
    "%load_ext autoreload \n",
    "%autoreload 2"
   ]
  },
  {
   "cell_type": "code",
   "execution_count": 2,
   "metadata": {},
   "outputs": [],
   "source": [
    "import autoseg"
   ]
  },
  {
   "cell_type": "code",
   "execution_count": 5,
   "metadata": {},
   "outputs": [],
   "source": [
    "from autoseg.transforms.gp_parser import GunpowderParser"
   ]
  },
  {
   "cell_type": "code",
   "execution_count": 6,
   "metadata": {},
   "outputs": [],
   "source": [
    "from autoseg.config import read_config"
   ]
  },
  {
   "cell_type": "code",
   "execution_count": null,
   "metadata": {},
   "outputs": [],
   "source": [
    "from autoseg.datasets import download_dataset, get_dataset_path"
   ]
  },
  {
   "cell_type": "code",
   "execution_count": null,
   "metadata": {},
   "outputs": [],
   "source": [
    "download_dataset(\"SynapseWeb/kh2015/oblique\")"
   ]
  },
  {
   "cell_type": "code",
   "execution_count": null,
   "metadata": {},
   "outputs": [],
   "source": [
    "get_dataset_path(\"SynapseWeb/kh2015/oblique\")"
   ]
  },
  {
   "cell_type": "code",
   "execution_count": 166,
   "metadata": {},
   "outputs": [],
   "source": [
    "config = read_config(\"examples/kh2015_multi\")"
   ]
  },
  {
   "cell_type": "code",
   "execution_count": 168,
   "metadata": {},
   "outputs": [
    {
     "data": {
      "text/plain": [
       "{'batch_size': 8,\n",
       " 'multigpu': True,\n",
       " 'training_dataloader': {'num_workers': 4,\n",
       "  'parallel': True,\n",
       "  'precache_per_worker': 4}}"
      ]
     },
     "execution_count": 168,
     "metadata": {},
     "output_type": "execute_result"
    }
   ],
   "source": [
    "config[\"training\"]"
   ]
  },
  {
   "cell_type": "code",
   "execution_count": 16,
   "metadata": {},
   "outputs": [],
   "source": [
    "import json"
   ]
  },
  {
   "cell_type": "code",
   "execution_count": 94,
   "metadata": {},
   "outputs": [],
   "source": [
    "json.dump(config, open(\"out.json\", \"w\"), indent=2)"
   ]
  },
  {
   "cell_type": "code",
   "execution_count": 155,
   "metadata": {},
   "outputs": [],
   "source": [
    "gp = GunpowderParser(config[\"pipeline\"])\n",
    "pipeline = gp.parse_config()\n"
   ]
  },
  {
   "cell_type": "code",
   "execution_count": 156,
   "metadata": {},
   "outputs": [
    {
     "data": {
      "text/plain": [
       "(ZarrSource[/home/anton/.cache/autoseg/datasets/SynapseWeb/kh2015/data/oblique.zarr.zip] -> Pad -> Pad -> Pad -> RandomLocation, ZarrSource[/home/anton/.cache/autoseg/datasets/SynapseWeb/kh2015/data/apical.zarr.zip] -> Pad -> Pad -> Pad -> RandomLocation) -> RandomProvider -> Normalize -> ElasticAugment -> SimpleAugment -> NoiseAugment -> IntensityAugment -> GrowBoundary -> AddAffinities -> BalanceLabels -> IntensityScaleShift -> Unsqueeze"
      ]
     },
     "execution_count": 156,
     "metadata": {},
     "output_type": "execute_result"
    }
   ],
   "source": [
    "pipeline"
   ]
  },
  {
   "cell_type": "code",
   "execution_count": 127,
   "metadata": {},
   "outputs": [
    {
     "name": "stdout",
     "output_type": "stream",
     "text": [
      "False\n"
     ]
    }
   ],
   "source": [
    "import gunpowder as gp\n",
    "print(isinstance(pipeline, gp.BatchProvider))"
   ]
  },
  {
   "cell_type": "code",
   "execution_count": null,
   "metadata": {},
   "outputs": [],
   "source": [
    "# SourceThing, SourceTHing, RandomLocation\n",
    "# SourceThing -> Source, Pad, Pad, RandomLocation"
   ]
  },
  {
   "cell_type": "code",
   "execution_count": 131,
   "metadata": {},
   "outputs": [
    {
     "data": {
      "text/plain": [
       "[[[ZarrSource[/home/anton/.cache/autoseg/datasets/SynapseWeb/kh2015/data/oblique.zarr.zip], providing: None,\n",
       "   Pad, providing: None,\n",
       "   Pad, providing: None,\n",
       "   Pad, providing: None,\n",
       "   RandomLocation, providing: None],\n",
       "  [ZarrSource[/home/anton/.cache/autoseg/datasets/SynapseWeb/kh2015/data/apical.zarr.zip], providing: None,\n",
       "   Pad, providing: None,\n",
       "   Pad, providing: None,\n",
       "   Pad, providing: None,\n",
       "   RandomLocation, providing: None]],\n",
       " RandomProvider, providing: None]"
      ]
     },
     "execution_count": 131,
     "metadata": {},
     "output_type": "execute_result"
    }
   ],
   "source": [
    "gp.nodes"
   ]
  },
  {
   "cell_type": "code",
   "execution_count": 66,
   "metadata": {},
   "outputs": [
    {
     "data": {
      "text/plain": [
       "[[[ZarrSource[/home/anton/.cache/autoseg/datasets/SynapseWeb/kh2015/data/oblique.zarr.zip], providing: None],\n",
       "  [Pad, providing: None],\n",
       "  [Pad, providing: None],\n",
       "  [Pad, providing: None],\n",
       "  [RandomLocation, providing: None]]]"
      ]
     },
     "execution_count": 66,
     "metadata": {},
     "output_type": "execute_result"
    }
   ],
   "source": [
    "\n",
    "gp.nodes[0][0]"
   ]
  },
  {
   "cell_type": "code",
   "execution_count": null,
   "metadata": {},
   "outputs": [],
   "source": [
    "pipeline"
   ]
  },
  {
   "cell_type": "code",
   "execution_count": null,
   "metadata": {},
   "outputs": [],
   "source": [
    "type(pipeline)"
   ]
  },
  {
   "cell_type": "code",
   "execution_count": null,
   "metadata": {},
   "outputs": [],
   "source": [
    "print(pipeline)"
   ]
  }
 ],
 "metadata": {
  "kernelspec": {
   "display_name": "sparsity_experiments",
   "language": "python",
   "name": "python3"
  },
  "language_info": {
   "codemirror_mode": {
    "name": "ipython",
    "version": 3
   },
   "file_extension": ".py",
   "mimetype": "text/x-python",
   "name": "python",
   "nbconvert_exporter": "python",
   "pygments_lexer": "ipython3",
   "version": "3.9.18"
  }
 },
 "nbformat": 4,
 "nbformat_minor": 2
}
