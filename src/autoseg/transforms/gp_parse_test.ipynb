{
 "cells": [
  {
   "cell_type": "code",
   "execution_count": 1,
   "metadata": {},
   "outputs": [],
   "source": [
    "%load_ext autoreload \n",
    "%autoreload 2"
   ]
  },
  {
   "cell_type": "code",
   "execution_count": 2,
   "metadata": {},
   "outputs": [],
   "source": [
    "import autoseg"
   ]
  },
  {
   "cell_type": "code",
   "execution_count": 9,
   "metadata": {},
   "outputs": [],
   "source": [
    "from autoseg.transforms.gp_parser import GunpowderParser"
   ]
  },
  {
   "cell_type": "code",
   "execution_count": 2,
   "metadata": {},
   "outputs": [],
   "source": [
    "from autoseg.config import read_config"
   ]
  },
  {
   "cell_type": "code",
   "execution_count": null,
   "metadata": {},
   "outputs": [],
   "source": [
    "from autoseg.datasets import download_dataset, get_dataset_path"
   ]
  },
  {
   "cell_type": "code",
   "execution_count": null,
   "metadata": {},
   "outputs": [],
   "source": [
    "download_dataset(\"SynapseWeb/kh2015/oblique\")"
   ]
  },
  {
   "cell_type": "code",
   "execution_count": null,
   "metadata": {},
   "outputs": [],
   "source": [
    "get_dataset_path(\"SynapseWeb/kh2015/oblique\")"
   ]
  },
  {
   "cell_type": "code",
   "execution_count": 5,
   "metadata": {},
   "outputs": [],
   "source": [
    "config = read_config(\"examples/kh2015_multisource\")"
   ]
  },
  {
   "cell_type": "code",
   "execution_count": 7,
   "metadata": {},
   "outputs": [
    {
     "data": {
      "text/plain": [
       "[[{'zarr_source': {'array_specs': {'_labels': {'array_spec': {'interpolatable': False}},\n",
       "     '_labels_mask': {'array_spec': {'interpolatable': False}},\n",
       "     '_raw': {'array_spec': {'interpolatable': True}}},\n",
       "    'datasets': {'_labels': 'labels/s0',\n",
       "     '_labels_mask': 'labels_mask/s0',\n",
       "     '_raw': 'raw/s0'},\n",
       "    'store': 'SynapseWeb/kh2015/oblique'}},\n",
       "  {'pad': {'key': 'RAW', 'size': None}},\n",
       "  {'pad': {'key': 'LABELS',\n",
       "    'size': {'coordinate': {'_positional': [450, 290, 290]}}}},\n",
       "  {'pad': {'key': 'LABELS_MASK',\n",
       "    'size': {'coordinate': {'_positional': [450, 290, 290]}}}},\n",
       "  {'random_location': {'mask': 'LABELS_MASK', 'min_masked': 0.1}}],\n",
       " [[{'zarr_source': {'array_specs': {'_labels': {'array_spec': {'interpolatable': False}},\n",
       "      '_labels_mask': {'array_spec': {'interpolatable': False}},\n",
       "      '_raw': {'array_spec': {'interpolatable': True}}},\n",
       "     'datasets': {'_labels': 'labels/s0',\n",
       "      '_labels_mask': 'labels_mask/s0',\n",
       "      '_raw': 'raw/s0'},\n",
       "     'store': 'SynapseWeb/kh2015/oblique'}},\n",
       "   {'pad': {'key': 'RAW', 'size': None}},\n",
       "   {'pad': {'key': 'LABELS',\n",
       "     'size': {'coordinate': {'_positional': [450, 290, 290]}}}},\n",
       "   {'pad': {'key': 'LABELS_MASK',\n",
       "     'size': {'coordinate': {'_positional': [450, 290, 290]}}}},\n",
       "   {'random_location': {'mask': 'LABELS_MASK', 'min_masked': 0.1}}],\n",
       "  [{'zarr_source': {'array_specs': {'_labels': {'array_spec': {'interpolatable': False}},\n",
       "      '_labels_mask': {'array_spec': {'interpolatable': False}},\n",
       "      '_raw': {'array_spec': {'interpolatable': True}}},\n",
       "     'datasets': {'_labels': 'labels/s0',\n",
       "      '_labels_mask': 'labels_mask/s0',\n",
       "      '_raw': 'raw/s0'},\n",
       "     'store': 'SynapseWeb/kh2015/spine'}},\n",
       "   {'pad': {'key': 'RAW', 'size': None}},\n",
       "   {'pad': {'key': 'LABELS',\n",
       "     'size': {'coordinate': {'_positional': [450, 290, 290]}}}},\n",
       "   {'pad': {'key': 'LABELS_MASK',\n",
       "     'size': {'coordinate': {'_positional': [450, 290, 290]}}}},\n",
       "   {'random_location': {'mask': 'LABELS_MASK', 'min_masked': 0.1}}]],\n",
       " {'random_provider': {}}]"
      ]
     },
     "execution_count": 7,
     "metadata": {},
     "output_type": "execute_result"
    }
   ],
   "source": [
    "config[\"pipeline\"][\"source\"]"
   ]
  },
  {
   "cell_type": "code",
   "execution_count": 16,
   "metadata": {},
   "outputs": [],
   "source": [
    "import json"
   ]
  },
  {
   "cell_type": "code",
   "execution_count": 94,
   "metadata": {},
   "outputs": [],
   "source": [
    "json.dump(config, open(\"out.json\", \"w\"), indent=2)"
   ]
  },
  {
   "cell_type": "code",
   "execution_count": 12,
   "metadata": {},
   "outputs": [
    {
     "name": "stdout",
     "output_type": "stream",
     "text": [
      "current pipeline ZarrSource[/home/anton/.cache/autoseg/datasets/SynapseWeb/kh2015/data/oblique.zarr.zip] -> Pad -> Pad -> Pad -> RandomLocation\n",
      "current node (ZarrSource[/home/anton/.cache/autoseg/datasets/SynapseWeb/kh2015/data/oblique.zarr.zip] -> Pad -> Pad -> Pad -> RandomLocation, ZarrSource[/home/anton/.cache/autoseg/datasets/SynapseWeb/kh2015/data/spine.zarr.zip] -> Pad -> Pad -> Pad -> RandomLocation)\n"
     ]
    },
    {
     "ename": "RuntimeError",
     "evalue": "Don't know how to add <class 'tuple'> to Pipeline",
     "output_type": "error",
     "traceback": [
      "\u001b[0;31m---------------------------------------------------------------------------\u001b[0m",
      "\u001b[0;31mRuntimeError\u001b[0m                              Traceback (most recent call last)",
      "Cell \u001b[0;32mIn[12], line 2\u001b[0m\n\u001b[1;32m      1\u001b[0m gp \u001b[38;5;241m=\u001b[39m GunpowderParser(config[\u001b[38;5;124m\"\u001b[39m\u001b[38;5;124mpipeline\u001b[39m\u001b[38;5;124m\"\u001b[39m])\n\u001b[0;32m----> 2\u001b[0m pipeline \u001b[38;5;241m=\u001b[39m \u001b[43mgp\u001b[49m\u001b[38;5;241;43m.\u001b[39;49m\u001b[43mparse_config\u001b[49m\u001b[43m(\u001b[49m\u001b[43m)\u001b[49m\n",
      "File \u001b[0;32m~/github/autoseg/src/autoseg/transforms/gp_parser.py:136\u001b[0m, in \u001b[0;36mGunpowderParser.parse_config\u001b[0;34m(self)\u001b[0m\n\u001b[1;32m    134\u001b[0m         \u001b[38;5;28mprint\u001b[39m(\u001b[38;5;124m\"\u001b[39m\u001b[38;5;124mcurrent pipeline\u001b[39m\u001b[38;5;124m\"\u001b[39m, pipeline)\n\u001b[1;32m    135\u001b[0m         \u001b[38;5;28mprint\u001b[39m(\u001b[38;5;124m\"\u001b[39m\u001b[38;5;124mcurrent node\u001b[39m\u001b[38;5;124m\"\u001b[39m, node)\n\u001b[0;32m--> 136\u001b[0m         pipeline \u001b[38;5;241m+\u001b[39m\u001b[38;5;241m=\u001b[39m node\n\u001b[1;32m    137\u001b[0m \u001b[38;5;28;01mreturn\u001b[39;00m pipeline\n",
      "File \u001b[0;32m~/miniforge3/envs/segmentation/lib/python3.9/site-packages/gunpowder/pipeline.py:162\u001b[0m, in \u001b[0;36mPipeline.__add__\u001b[0;34m(self, other)\u001b[0m\n\u001b[1;32m    159\u001b[0m     result\u001b[38;5;241m.\u001b[39mtraverse(add_self_to_leaves, reverse\u001b[38;5;241m=\u001b[39m\u001b[38;5;28;01mTrue\u001b[39;00m)\n\u001b[1;32m    161\u001b[0m \u001b[38;5;28;01melse\u001b[39;00m:\n\u001b[0;32m--> 162\u001b[0m     \u001b[38;5;28;01mraise\u001b[39;00m \u001b[38;5;167;01mRuntimeError\u001b[39;00m(\u001b[38;5;124mf\u001b[39m\u001b[38;5;124m\"\u001b[39m\u001b[38;5;124mDon\u001b[39m\u001b[38;5;124m'\u001b[39m\u001b[38;5;124mt know how to add \u001b[39m\u001b[38;5;132;01m{\u001b[39;00m\u001b[38;5;28mtype\u001b[39m(other)\u001b[38;5;132;01m}\u001b[39;00m\u001b[38;5;124m to Pipeline\u001b[39m\u001b[38;5;124m\"\u001b[39m)\n\u001b[1;32m    164\u001b[0m \u001b[38;5;28;01mreturn\u001b[39;00m result\n",
      "\u001b[0;31mRuntimeError\u001b[0m: Don't know how to add <class 'tuple'> to Pipeline"
     ]
    }
   ],
   "source": [
    "gp = GunpowderParser(config[\"pipeline\"])\n",
    "pipeline = gp.parse_config()\n"
   ]
  },
  {
   "cell_type": "code",
   "execution_count": 156,
   "metadata": {},
   "outputs": [
    {
     "data": {
      "text/plain": [
       "(ZarrSource[/home/anton/.cache/autoseg/datasets/SynapseWeb/kh2015/data/oblique.zarr.zip] -> Pad -> Pad -> Pad -> RandomLocation, ZarrSource[/home/anton/.cache/autoseg/datasets/SynapseWeb/kh2015/data/apical.zarr.zip] -> Pad -> Pad -> Pad -> RandomLocation) -> RandomProvider -> Normalize -> ElasticAugment -> SimpleAugment -> NoiseAugment -> IntensityAugment -> GrowBoundary -> AddAffinities -> BalanceLabels -> IntensityScaleShift -> Unsqueeze"
      ]
     },
     "execution_count": 156,
     "metadata": {},
     "output_type": "execute_result"
    }
   ],
   "source": [
    "pipeline"
   ]
  },
  {
   "cell_type": "code",
   "execution_count": 127,
   "metadata": {},
   "outputs": [
    {
     "name": "stdout",
     "output_type": "stream",
     "text": [
      "False\n"
     ]
    }
   ],
   "source": [
    "import gunpowder as gp\n",
    "print(isinstance(pipeline, gp.BatchProvider))"
   ]
  },
  {
   "cell_type": "code",
   "execution_count": null,
   "metadata": {},
   "outputs": [],
   "source": [
    "# SourceThing, SourceTHing, RandomLocation\n",
    "# SourceThing -> Source, Pad, Pad, RandomLocation"
   ]
  },
  {
   "cell_type": "code",
   "execution_count": 131,
   "metadata": {},
   "outputs": [
    {
     "data": {
      "text/plain": [
       "[[[ZarrSource[/home/anton/.cache/autoseg/datasets/SynapseWeb/kh2015/data/oblique.zarr.zip], providing: None,\n",
       "   Pad, providing: None,\n",
       "   Pad, providing: None,\n",
       "   Pad, providing: None,\n",
       "   RandomLocation, providing: None],\n",
       "  [ZarrSource[/home/anton/.cache/autoseg/datasets/SynapseWeb/kh2015/data/apical.zarr.zip], providing: None,\n",
       "   Pad, providing: None,\n",
       "   Pad, providing: None,\n",
       "   Pad, providing: None,\n",
       "   RandomLocation, providing: None]],\n",
       " RandomProvider, providing: None]"
      ]
     },
     "execution_count": 131,
     "metadata": {},
     "output_type": "execute_result"
    }
   ],
   "source": [
    "gp.nodes"
   ]
  },
  {
   "cell_type": "code",
   "execution_count": 66,
   "metadata": {},
   "outputs": [
    {
     "data": {
      "text/plain": [
       "[[[ZarrSource[/home/anton/.cache/autoseg/datasets/SynapseWeb/kh2015/data/oblique.zarr.zip], providing: None],\n",
       "  [Pad, providing: None],\n",
       "  [Pad, providing: None],\n",
       "  [Pad, providing: None],\n",
       "  [RandomLocation, providing: None]]]"
      ]
     },
     "execution_count": 66,
     "metadata": {},
     "output_type": "execute_result"
    }
   ],
   "source": [
    "\n",
    "gp.nodes[0][0]"
   ]
  },
  {
   "cell_type": "code",
   "execution_count": null,
   "metadata": {},
   "outputs": [],
   "source": [
    "pipeline"
   ]
  },
  {
   "cell_type": "code",
   "execution_count": null,
   "metadata": {},
   "outputs": [],
   "source": [
    "type(pipeline)"
   ]
  },
  {
   "cell_type": "code",
   "execution_count": null,
   "metadata": {},
   "outputs": [],
   "source": [
    "print(pipeline)"
   ]
  }
 ],
 "metadata": {
  "kernelspec": {
   "display_name": "sparsity_experiments",
   "language": "python",
   "name": "python3"
  },
  "language_info": {
   "codemirror_mode": {
    "name": "ipython",
    "version": 3
   },
   "file_extension": ".py",
   "mimetype": "text/x-python",
   "name": "python",
   "nbconvert_exporter": "python",
   "pygments_lexer": "ipython3",
   "version": "3.9.18"
  }
 },
 "nbformat": 4,
 "nbformat_minor": 2
}
