{
 "cells": [
  {
   "cell_type": "code",
   "execution_count": 29,
   "metadata": {},
   "outputs": [
    {
     "name": "stdout",
     "output_type": "stream",
     "text": [
      "The autoreload extension is already loaded. To reload it, use:\n",
      "  %reload_ext autoreload\n"
     ]
    }
   ],
   "source": [
    "%load_ext autoreload\n",
    "%autoreload 2\n",
    "from autoseg.datasets import get_dataset_path\n",
    "from autoseg.datasets.utils import get_shape, get_voxel_size\n",
    "import networkx as nx\n",
    "import zarr\n",
    "import numpy as np\n",
    "from funlib.evaluate import (\n",
    "    rand_voi,\n",
    "    expected_run_length,\n",
    "    get_skeleton_lengths,\n",
    ")"
   ]
  },
  {
   "cell_type": "code",
   "execution_count": null,
   "metadata": {},
   "outputs": [],
   "source": [
    "def get_dataset_stats(dataset):\n",
    "  z = get_dataset_path(dataset + \".zarr\")\n",
    "  s = get_dataset_path(dataset + \".graphml\")\n",
    "  skeletons = nx.read_graphml(s)\n",
    "\n",
    "\n",
    "  num_edges = skeletons.number_of_edges()\n",
    "  num_nodes = skeletons.number_of_nodes()\n",
    "  num_objects = nx.number_connected_components(skeletons)\n",
    "\n",
    "  skeleton_lengths = get_skeleton_lengths(\n",
    "    skeletons,\n",
    "    skeleton_position_attributes=[\"position_z\", \"position_y\", \"position_x\"],\n",
    "    skeleton_id_attribute=\"id\",\n",
    "    store_edge_length=\"length\"\n",
    "  )\n",
    "\n",
    "  total_length = np.sum([l for _, l in skeleton_lengths.items()])\n",
    "  average_length = total_length\n",
    "  std_length = np.std([l for _, l in skeleton_lengths.items()])\n",
    "  shortest_length = min([l for _, l in skeleton_lengths.items()])\n",
    "  longest_length = max([l for _, l in skeleton_lengths.items()])\n",
    "\n",
    "  voxel_size = get_voxel_size(z, \"volumes/image/s1\")\n",
    "  shape = get_shape(z, \"volumes/image/s1\")\n",
    "  size = [v*s for v, s in zip(voxel_size, shape)]\n",
    "  volume = size[0] * size[1] * size[2]"
   ]
  },
  {
   "cell_type": "code",
   "execution_count": 3,
   "metadata": {},
   "outputs": [],
   "source": [
    "dataset = \"SynapseWeb/team_dentate/BBCHZ\"\n",
    "z = get_dataset_path(dataset + \".zarr\")\n",
    "s = get_dataset_path(dataset + \".graphml\")"
   ]
  },
  {
   "cell_type": "code",
   "execution_count": 4,
   "metadata": {},
   "outputs": [],
   "source": [
    "skeletons = nx.read_graphml(s)"
   ]
  },
  {
   "cell_type": "code",
   "execution_count": 5,
   "metadata": {},
   "outputs": [],
   "source": [
    "num_edges = skeletons.number_of_edges()\n",
    "num_nodes = skeletons.number_of_nodes()"
   ]
  },
  {
   "cell_type": "code",
   "execution_count": 6,
   "metadata": {},
   "outputs": [],
   "source": [
    "num_objects = nx.number_connected_components(skeletons)"
   ]
  },
  {
   "cell_type": "code",
   "execution_count": 7,
   "metadata": {},
   "outputs": [],
   "source": [
    "connected_components = nx.connected_components(skeletons)\n",
    "connected_components = list(connected_components)"
   ]
  },
  {
   "cell_type": "code",
   "execution_count": 8,
   "metadata": {},
   "outputs": [],
   "source": [
    "cc = connected_components[0]"
   ]
  },
  {
   "cell_type": "code",
   "execution_count": 12,
   "metadata": {},
   "outputs": [],
   "source": [
    "from funlib.evaluate import (\n",
    "    rand_voi,\n",
    "    expected_run_length,\n",
    "    get_skeleton_lengths,\n",
    ")"
   ]
  },
  {
   "cell_type": "code",
   "execution_count": 13,
   "metadata": {},
   "outputs": [],
   "source": [
    "skeleton_lengths = get_skeleton_lengths(\n",
    "  skeletons,\n",
    "  skeleton_position_attributes=[\"position_z\", \"position_y\", \"position_x\"],\n",
    "  skeleton_id_attribute=\"id\",\n",
    "  store_edge_length=\"length\"\n",
    ")"
   ]
  },
  {
   "cell_type": "code",
   "execution_count": 21,
   "metadata": {},
   "outputs": [
    {
     "name": "stdout",
     "output_type": "stream",
     "text": [
      "412745.794523716 412745.794523716 5456.487510407069 152.16652059555054 24156.008276939392\n"
     ]
    }
   ],
   "source": [
    "total_length = np.sum([l for _, l in skeleton_lengths.items()])\n",
    "average_length = total_length\n",
    "std_length = np.std([l for _, l in skeleton_lengths.items()])\n",
    "shortest_length = min([l for _, l in skeleton_lengths.items()])\n",
    "longest_length = max([l for _, l in skeleton_lengths.items()])\n",
    "print(total_length, average_length, std_length, shortest_length, longest_length)"
   ]
  },
  {
   "cell_type": "code",
   "execution_count": 39,
   "metadata": {},
   "outputs": [
    {
     "name": "stdout",
     "output_type": "stream",
     "text": [
      "/home/anton/.cache/autoseg/datasets/SynapseWeb/team_dentate/data/BBCHZ.zarr volumes/image/s1\n",
      "[50, 4, 4] (50, 2763, 4616) [2500, 11052, 18464] 510160320000\n"
     ]
    }
   ],
   "source": [
    "voxel_size = get_voxel_size(z, \"volumes/image/s1\")\n",
    "shape = get_shape(z, \"volumes/image/s1\")\n",
    "size = [v*s for v, s in zip(voxel_size, shape)]\n",
    "volume = size[0] * size[1] * size[2]\n",
    "print(voxel_size, shape, size, volume)\n"
   ]
  },
  {
   "cell_type": "code",
   "execution_count": 43,
   "metadata": {},
   "outputs": [
    {
     "name": "stdout",
     "output_type": "stream",
     "text": [
      "30469896000 5.972611903646289\n"
     ]
    }
   ],
   "source": [
    "nonzero = np.count_nonzero(image[\"volumes\"][\"neuron_ids\"][\"s1\"])\n",
    "labelled_volume = nonzero * voxel_size[0] * voxel_size[1] * voxel_size[2]\n",
    "percent_labelled = labelled_volume / volume\n",
    "print(labelled_volume, percent_labelled * 100)"
   ]
  },
  {
   "cell_type": "code",
   "execution_count": 47,
   "metadata": {},
   "outputs": [],
   "source": [
    "unique, counts = np.unique(image[\"volumes\"][\"neuron_ids\"][\"s1\"], return_counts=True)"
   ]
  },
  {
   "cell_type": "code",
   "execution_count": 57,
   "metadata": {},
   "outputs": [
    {
     "data": {
      "text/plain": [
       "87"
      ]
     },
     "execution_count": 57,
     "metadata": {},
     "output_type": "execute_result"
    }
   ],
   "source": [
    "np.count_nonzero(counts > 1000)"
   ]
  },
  {
   "cell_type": "code",
   "execution_count": 50,
   "metadata": {},
   "outputs": [
    {
     "data": {
      "text/plain": [
       "array([380312430,    209136,     35795,   1318429,    754858,   2143450,\n",
       "             231,    250313,        13,         1,         1,         1,\n",
       "               1,         1,         1,         1,         1,        20,\n",
       "               1,         1,         1,        15,    189122,      5387,\n",
       "          131098,    697071,         1,         1,         1,        35,\n",
       "             160,    962210,   3090347,       814,       200,        11,\n",
       "         2882762,        14,         1,         1,   1219847,    237806,\n",
       "            1225,        10,    470343,         1,         1,         1,\n",
       "               2,         2,         2,         3,        11,         1,\n",
       "              73,         1,        89,         1,    216039,         1,\n",
       "               1,       261,    266198,     29744,   3293869,    328908,\n",
       "         1204202,    784447,    825000,    337894,     29981,    395039,\n",
       "          939838,       201,         1,         1,         1,         9,\n",
       "               2,         1,         5,         1,         8,        38,\n",
       "               1,         1,         1,         3,        23,         1,\n",
       "              37,         1,         1,         7,         1,        73,\n",
       "               5,         1,       165,      1641,         1,        47,\n",
       "               1,      1039,         1,         1,        13,         1,\n",
       "             875,        27,         9,        71,         1,         5,\n",
       "              58,         1,         1,        40,         1,       117,\n",
       "               1,         4,         1,         1,         1,         1,\n",
       "               1,         2,        16,         1,        15,         1,\n",
       "               1,       344,         1,         1,         4,         4,\n",
       "               2,         1,         1,        29,         1,        99,\n",
       "               2,        11,         6,         1,         1,        19,\n",
       "               1,         1,         1,         1,         1,         2,\n",
       "               1,         1,         1,         1,         1,         1,\n",
       "               1,         1,       161,       895,        41,       514,\n",
       "               1,        97,        54,         1,         2,         1,\n",
       "               1,         1,         1,         1,         1,         2,\n",
       "               1,        89,         6,         1,       103,         1,\n",
       "               1,         2,        12,        76,       204,         1,\n",
       "             526,         1,        41,         1,         1,         1,\n",
       "               1,        31,       203,         1,         1,         1,\n",
       "               1,         6,         1,         1,         1,         1,\n",
       "               1,         1,         1,         1,       104,         1,\n",
       "               1,        47,         1,       171,        24,         1,\n",
       "               1,         2,         1,         1,         1,         1,\n",
       "               1,         1,         1,        45,         1,         1,\n",
       "               1,         1,         1,         1,         2,        54,\n",
       "             145,       181,       115,         1,         5,         3,\n",
       "               1,         2,      7651,       179,         1,         1,\n",
       "               1,         1,        83,         1,         1,         1,\n",
       "               2,        38,         1,         1,       112,         1,\n",
       "               1,         3,        34,       716,         1,         1,\n",
       "               1,        88,         2,         1,         1,         1,\n",
       "               1,         1,       122,         1,         3,         1,\n",
       "               1,       341,         1,         1,       144,         1,\n",
       "               1,         1,         1,         1,         1,         1,\n",
       "               1,         1,         1,        11,         1,         1,\n",
       "               1,         1,         1,        11,       108,       581,\n",
       "              14,         1,       188,         1,         1,        10,\n",
       "               5,         1,        18,        12,         1,         8,\n",
       "               2,         1,       233,        94,         1,         1,\n",
       "               1,         6,         1,         1,         1,        19,\n",
       "               1,         1,         1,         1,       109,         2,\n",
       "               1,         1,      1343,         1,         1,         1,\n",
       "               1,         1,         3,         1,         1,         1,\n",
       "               1,         1,        27,         1,         1,         1,\n",
       "               2,        14,       895,         1,         1,        36,\n",
       "               1,         1,         1,         1,        72,         2,\n",
       "               2,        31,         1,         1,         1,         1,\n",
       "               1,         1,         8,         1,         1,       202,\n",
       "             469,        69,      4148,     12553,    190574,         2,\n",
       "              12,        64,         2,        15,        57,         1,\n",
       "               1,         4,         3,         3,         1,         1,\n",
       "               1,       862,       161,         1,         1,         1,\n",
       "              73,         1,         1,        90,         1,        71,\n",
       "               1,         3,         2,         5,        13,    221400,\n",
       "         2274464,      6083,        11,         2,         1,         1,\n",
       "               7,         5,        57,         1,         4,         1,\n",
       "              70,       265,         1,         1,         1,         1,\n",
       "               1,         1,         1,         1,         1,        50,\n",
       "               9,         4,         1,         1,         1,       110,\n",
       "               1,         1,         1,      1468,         1,       144,\n",
       "              26,         1,         1,         1,         1,         1,\n",
       "               9,         1,         1,         1,        90,         5,\n",
       "               1,         2,         1,         1,        28,        33,\n",
       "             133,         1,         1,        13,        21,       591,\n",
       "               1,         1,        44,        17,         1,         1,\n",
       "             153,         1,        27,         8,         1,         1,\n",
       "              84,         6,         1,         2,         1,         1,\n",
       "              11,         1,    926460,   1569094,         3,         1,\n",
       "               7,         2,       304,         1,         8,        28,\n",
       "               1,       189,        52,         1,         1,         1,\n",
       "               1,        41,         1,        50,         2,         1,\n",
       "               1,        17,         1,         1,         5,         1,\n",
       "               1,        13,         1,         1,         2,        31,\n",
       "               1,         5,         2,         1,         1,         1,\n",
       "               4,         1,         1,         1,         1,         1,\n",
       "               1,         1,         1,       104,         1,        61,\n",
       "          578658,        62,         5,         1,        22,         1,\n",
       "               7,         1,         1,         1,         2,        41,\n",
       "               1,         7,         1,         1,         1,        72,\n",
       "               2,         1,       422,       463,         1,         1,\n",
       "               9,         1,         1,        23,         1,         1,\n",
       "               1,       172,         1,         1,    225445,        16,\n",
       "               6,         3,        30,         2,         2,         1,\n",
       "               1,         2,         2,         3,       173,         1,\n",
       "               6,        24,         1,         4,         1,         1,\n",
       "              33,         1,         1,         1,         1,        16,\n",
       "               1,        29,         1,         3,        41,         1,\n",
       "               1,         1,         4,         1,         5,        11,\n",
       "               2,         1,         7,        14,         1,         1,\n",
       "               1,         1,         1,         1,         2,         2,\n",
       "               1,         1,         1,         3,        11,         2,\n",
       "               2,         1,         1,       202,       415,         1,\n",
       "               1,         1,        46,         4,         1,         1,\n",
       "               1,         2,         2,         1,         1,         1,\n",
       "              18,         5,         1,         2,         1,         3,\n",
       "               1,         1,         1,         8,         1,        47,\n",
       "               3,         3,         3,         1,        22,         1,\n",
       "               9,         1,         1,         5,         1,         1,\n",
       "               3,         1,         1,         1,         1,         3,\n",
       "              20,         1,        48,        11,         2,        11,\n",
       "               1,         1,         6,    149567,        21,        71,\n",
       "              34,         1,         1,         1,         1,         1,\n",
       "               1,        31,        81,         1,       245,         1,\n",
       "             171,         6,       150,         2,         3,         1,\n",
       "               1,         8,         1,         1,        18,         1,\n",
       "             312,         1,        32,         4,       181,         1,\n",
       "               1,         1,         1,    133665,    188458,    788403,\n",
       "          432677,        34,         2,       244,         1,    603274,\n",
       "               1,         1,         1,         1,         1,         5,\n",
       "               1,         1,        32,        45,        45,         5,\n",
       "              55,         4,       124,         3,         2,         1,\n",
       "               2,         2,    320788,       756,         1,         4,\n",
       "               7,         1,        81,         6,         2,         8,\n",
       "            8900,        15,         5,        92,     18637,      1098,\n",
       "            6130,      5351,        36,      1553,         4,       113,\n",
       "               1,        61,         1,     20308,      9678,     61764,\n",
       "            7213,      3579,      2123,    157767,     39721,    165790,\n",
       "         1484988,        35,      5861,         1,        98,        17,\n",
       "              14,       168,         1,    272793,    284181,    532969,\n",
       "          329795,    126041,        26,         1,         1,        23,\n",
       "               1,        35,         1,         1,       134,        26,\n",
       "               3,         1,         1,         1,         1,         1,\n",
       "               1,         1,         4,    252131,         1,         1,\n",
       "              17,        40,    456175,    476731,    571082,     71332,\n",
       "           61515,    519684,     22299,     45593,    118891,      5518,\n",
       "           13775,       348,     12082])"
      ]
     },
     "execution_count": 50,
     "metadata": {},
     "output_type": "execute_result"
    }
   ],
   "source": [
    "counts"
   ]
  }
 ],
 "metadata": {
  "kernelspec": {
   "display_name": "segmentation",
   "language": "python",
   "name": "python3"
  },
  "language_info": {
   "codemirror_mode": {
    "name": "ipython",
    "version": 3
   },
   "file_extension": ".py",
   "mimetype": "text/x-python",
   "name": "python",
   "nbconvert_exporter": "python",
   "pygments_lexer": "ipython3",
   "version": "3.9.19"
  }
 },
 "nbformat": 4,
 "nbformat_minor": 2
}
