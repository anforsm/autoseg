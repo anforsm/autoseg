{
 "cells": [
  {
   "cell_type": "code",
   "execution_count": 1,
   "metadata": {},
   "outputs": [
    {
     "name": "stderr",
     "output_type": "stream",
     "text": [
      "/home/anton/miniforge3/envs/segmentation/lib/python3.9/site-packages/tqdm/auto.py:21: TqdmWarning: IProgress not found. Please update jupyter and ipywidgets. See https://ipywidgets.readthedocs.io/en/stable/user_install.html\n",
      "  from .autonotebook import tqdm as notebook_tqdm\n"
     ]
    }
   ],
   "source": [
    "%load_ext autoreload\n",
    "%autoreload 2\n",
    "from autoseg.datasets import get_dataset_path\n",
    "from autoseg.config import read_config\n",
    "from autoseg.models import Model\n",
    "import zarr\n",
    "from PIL import Image\n",
    "import numpy as np\n",
    "import os\n",
    "import matplotlib.pyplot as plt\n",
    "import torch\n",
    "import functools\n",
    "import gunpowder as gp\n",
    "from gunpowder.nodes.add_affinities import seg_to_affgraph\n",
    "from autoseg.datasets import GunpowderZarrDataset"
   ]
  },
  {
   "cell_type": "code",
   "execution_count": 91,
   "metadata": {},
   "outputs": [
    {
     "name": "stdout",
     "output_type": "stream",
     "text": [
      "/home/anton/.cache/autoseg/datasets/SynapseWeb/kh2015/data/apical.zarr.zip labels_mask/s0\n",
      "/home/anton/.cache/autoseg/datasets/SynapseWeb/kh2015/data/apical.zarr.zip labels/s0\n",
      "/home/anton/.cache/autoseg/datasets/SynapseWeb/kh2015/data/apical.zarr.zip raw/s0\n"
     ]
    }
   ],
   "source": [
    "config = read_config(\"autoseg/user_configs/anton/resolution_experiments/s1\")\n",
    "dataset = GunpowderZarrDataset(\n",
    "  config=config[\"pipeline\"],\n",
    "  input_image_shape=(40, 24, 24),\n",
    "  output_image_shape=(40, 24, 24)\n",
    ")"
   ]
  },
  {
   "cell_type": "code",
   "execution_count": 102,
   "metadata": {},
   "outputs": [],
   "source": [
    "dataset_iter = iter(dataset)\n",
    "for it in dataset_iter:\n",
    "  first = it\n",
    "  break\n",
    "raw, labels, gt_affs, affs_weights, gt_affs_mask, labels_mask = first\n",
    "#     _outputs: [\"RAW\", \"LABELS\", \"GT_AFFS\", \"AFFS_WEIGHTS\", \"GT_AFFS_MASK\", \"LABELS_MASK\"],\n",
    "affs = 1 - gt_affs[:,20]"
   ]
  },
  {
   "cell_type": "code",
   "execution_count": 118,
   "metadata": {},
   "outputs": [],
   "source": [
    "affs = 1-affs"
   ]
  },
  {
   "cell_type": "code",
   "execution_count": 148,
   "metadata": {},
   "outputs": [],
   "source": [
    "from skimage.color import label2rgb\n",
    "import matplotlib.colors as mcolors\n",
    "# Generate a list of random colors for each unique label\n",
    "unique_labels = np.unique(labels)\n",
    "random_colors = np.random.rand(len(unique_labels), 3)\n",
    "cmap = mcolors.ListedColormap(['black', 'yellow', 'magenta', 'white'])"
   ]
  },
  {
   "cell_type": "code",
   "execution_count": 150,
   "metadata": {},
   "outputs": [
    {
     "data": {
      "image/png": "[encoded data removed]",
      "text/plain": [
       "<Figure size 1600x800 with 2 Axes>"
      ]
     },
     "metadata": {},
     "output_type": "display_data"
    }
   ],
   "source": [
    "fig, axes = plt.subplots(1, 2, figsize=(16, 8))\n",
    "\n",
    "plt.subplots_adjust(wspace=0.05, hspace=0.3)\n",
    "title_fontsize=24\n",
    "\n",
    "# Row 1: Raw tensor and Labels tensor\n",
    "# axes[0].imshow(raw[0, 20], cmap=\"gray\")\n",
    "# axes[0].set_title('Raw', fontsize=title_fontsize)\n",
    "# axes[0].axis('off')\n",
    "\n",
    "axes[0].imshow(label2rgb(labels[20],bg_label=0,colors=random_colors), origin=\"upper\")\n",
    "axes[0].set_title('Segmentation', fontsize=title_fontsize)\n",
    "axes[0].axis('off')\n",
    "\n",
    "# Row 3: Original LSD slices\n",
    "axes[1].imshow(affs[1] + (affs[2] << 1), cmap=cmap, interpolation=\"nearest\", origin=\"upper\")\n",
    "axes[1].set_title('Affinities', fontsize=title_fontsize)\n",
    "\n",
    "def add_pixel_borders(ax):\n",
    "  # Set axis on and enable grid\n",
    "  ax.set_xticks(np.arange(-0.5, 24), minor=True)\n",
    "  ax.set_yticks(np.arange(-0.5, 24), minor=True)\n",
    "  ax.grid(color=\"black\", which=\"minor\", linestyle='-', linewidth=1)\n",
    "  ax.axis('on')  # Make sure the axis is on\n",
    "\n",
    "  for tick in ax.xaxis.get_major_ticks():\n",
    "    tick.tick1line.set_visible(False)\n",
    "    tick.tick2line.set_visible(False)\n",
    "    tick.label1.set_visible(False)\n",
    "    tick.label2.set_visible(False)\n",
    "\n",
    "  for tick in ax.yaxis.get_major_ticks():\n",
    "    tick.tick1line.set_visible(False)\n",
    "    tick.tick2line.set_visible(False)\n",
    "    tick.label1.set_visible(False)\n",
    "    tick.label2.set_visible(False)\n",
    "\n",
    "add_pixel_borders(axes[0])\n",
    "plt.gca().invert_xaxis()\n",
    "add_pixel_borders(axes[1])\n",
    "plt.gca().invert_xaxis()\n",
    "# Row 2: Original LSD slices\n",
    "# axes[3].imshow(affs[0])\n",
    "# axes[3].set_title('Affs', fontsize=title_fontsize)\n",
    "# axes[3].axis('off')\n",
    "# \n",
    "# axes[4].imshow(affs[1])\n",
    "# axes[4].set_title('Affs', fontsize=title_fontsize)\n",
    "# axes[4].axis('off')\n",
    "# \n",
    "# axes[5].imshow(affs[2])\n",
    "# axes[5].set_title('Affs', fontsize=title_fontsize)\n",
    "# axes[5].axis('off')\n",
    "\n",
    "\n",
    "#axes[1, 1].imshow(lsd[3:6, 20].transpose(1, 2, 0))\n",
    "#axes[1, 1].set_title('LSD[3:6]', fontsize=title_fontsize)\n",
    "#axes[1, 1].axis('off')\n",
    "#\n",
    "#axes[1, 2].imshow(lsd[6:9, 20].transpose(1, 2, 0))\n",
    "#axes[1, 2].set_title('LSD[6:9]', fontsize=title_fontsize)\n",
    "#axes[1, 2].axis('off')\n",
    "\n",
    "#\n",
    "#axes[1, 3].imshow(lsd[9:10, 20].transpose(1, 2, 0), cmap=\"jet\")\n",
    "#axes[1, 3].set_title('LSD[9:10]', fontsize=title_fontsize)\n",
    "#axes[1, 3].axis('off')\n",
    "\n",
    "plt.show()\n",
    "\n",
    "# magenta means pixel above belongs to border\n",
    "# yellow means pixel to the left belongs to border\n",
    "# black means pixel above and to the left belongs to border\n"
   ]
  }
 ],
 "metadata": {
  "kernelspec": {
   "display_name": "segmentation",
   "language": "python",
   "name": "python3"
  },
  "language_info": {
   "codemirror_mode": {
    "name": "ipython",
    "version": 3
   },
   "file_extension": ".py",
   "mimetype": "text/x-python",
   "name": "python",
   "nbconvert_exporter": "python",
   "pygments_lexer": "ipython3",
   "version": "3.9.18"
  }
 },
 "nbformat": 4,
 "nbformat_minor": 2
}
