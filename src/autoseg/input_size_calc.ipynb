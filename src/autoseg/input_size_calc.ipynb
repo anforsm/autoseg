{
 "cells": [
  {
   "cell_type": "code",
   "execution_count": 19,
   "metadata": {},
   "outputs": [],
   "source": [
    "def is_valid(size):\n",
    "  if not size % 16 == 0:\n",
    "    return False\n",
    "  \n",
    "  depth = 3\n",
    "  for _ in range(depth):\n",
    "    size -= 2\n",
    "    if not size % 2 == 0:\n",
    "      return False\n",
    "    size /= 2\n",
    "  return True"
   ]
  },
  {
   "cell_type": "code",
   "execution_count": 20,
   "metadata": {},
   "outputs": [],
   "source": [
    "for i in range(50000):\n",
    "  if is_valid(i):\n",
    "    print(i)"
   ]
  }
 ],
 "metadata": {
  "kernelspec": {
   "display_name": "segmentation",
   "language": "python",
   "name": "python3"
  },
  "language_info": {
   "codemirror_mode": {
    "name": "ipython",
    "version": 3
   },
   "file_extension": ".py",
   "mimetype": "text/x-python",
   "name": "python",
   "nbconvert_exporter": "python",
   "pygments_lexer": "ipython3",
   "version": "3.9.18"
  }
 },
 "nbformat": 4,
 "nbformat_minor": 2
}
