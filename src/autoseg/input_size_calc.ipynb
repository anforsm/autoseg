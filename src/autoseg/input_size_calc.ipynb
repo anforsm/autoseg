{
 "cells": [
  {
   "cell_type": "code",
   "execution_count": 4,
   "metadata": {},
   "outputs": [],
   "source": [
    "def is_valid(size):\n",
    "  #if not size % 16 == 0:\n",
    "  #  return False\n",
    "  \n",
    "  depth = 4\n",
    "  for _ in range(depth):\n",
    "    size -= 4\n",
    "    if not size % 3 == 0:\n",
    "      return False\n",
    "    size /= 3\n",
    "  return True"
   ]
  },
  {
   "cell_type": "code",
   "execution_count": null,
   "metadata": {},
   "outputs": [],
   "source": [
    "is_valid(484)"
   ]
  },
  {
   "cell_type": "code",
   "execution_count": 5,
   "metadata": {},
   "outputs": [
    {
     "name": "stdout",
     "output_type": "stream",
     "text": [
      "79\n",
      "160\n",
      "241\n",
      "322\n",
      "403\n",
      "484\n",
      "565\n",
      "646\n"
     ]
    }
   ],
   "source": [
    "for i in range(700):\n",
    "  if is_valid(i):\n",
    "    print(i)"
   ]
  },
  {
   "cell_type": "code",
   "execution_count": 1,
   "metadata": {},
   "outputs": [],
   "source": [
    "from funlib.geometry import Coordinate, Roi\n",
    "import numpy as np\n",
    "\n",
    "def calc_max_padding(output_size, voxel_size, sigma, mode=\"shrink\"):\n",
    "\n",
    "    method_padding = Coordinate((sigma * 3,) * 3)\n",
    "\n",
    "    diag = np.sqrt(output_size[1] ** 2 + output_size[2] ** 2)\n",
    "\n",
    "    max_padding = Roi(\n",
    "        (\n",
    "            Coordinate([i / 2 for i in [output_size[0], diag, diag]])\n",
    "            + method_padding\n",
    "        ),\n",
    "        (0,) * 3,\n",
    "    ).snap_to_grid(voxel_size, mode=mode)\n",
    "\n",
    "    return max_padding.get_begin()"
   ]
  },
  {
   "cell_type": "code",
   "execution_count": 3,
   "metadata": {},
   "outputs": [
    {
     "data": {
      "text/plain": [
       "(150, 160, 160)"
      ]
     },
     "execution_count": 3,
     "metadata": {},
     "output_type": "execute_result"
    }
   ],
   "source": [
    "calc_max_padding((56, 56, 56), (50, 2, 2), 40)"
   ]
  }
 ],
 "metadata": {
  "kernelspec": {
   "display_name": "segmentation",
   "language": "python",
   "name": "python3"
  },
  "language_info": {
   "codemirror_mode": {
    "name": "ipython",
    "version": 3
   },
   "file_extension": ".py",
   "mimetype": "text/x-python",
   "name": "python",
   "nbconvert_exporter": "python",
   "pygments_lexer": "ipython3",
   "version": "3.9.undefined"
  }
 },
 "nbformat": 4,
 "nbformat_minor": 2
}
