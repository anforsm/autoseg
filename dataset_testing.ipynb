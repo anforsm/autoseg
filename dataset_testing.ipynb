{
 "cells": [
  {
   "cell_type": "code",
   "execution_count": 25,
   "metadata": {},
   "outputs": [
    {
     "name": "stdout",
     "output_type": "stream",
     "text": [
      "The autoreload extension is already loaded. To reload it, use:\n",
      "  %reload_ext autoreload\n"
     ]
    }
   ],
   "source": [
    "%load_ext autoreload\n",
    "%autoreload 2\n",
    "from funlib.persistence import open_ds\n",
    "import matplotlib.pyplot as plt\n",
    "import numpy as np\n",
    "import gunpowder as gp\n",
    "import torch\n",
    "from src.datasets import load_dataset, Kh2015, TorchZarrDataloader\n",
    "from src.transforms import PreprocessingPipeline\n",
    "from src.config import read_config"
   ]
  },
  {
   "cell_type": "code",
   "execution_count": 35,
   "metadata": {},
   "outputs": [
    {
     "name": "stdout",
     "output_type": "stream",
     "text": [
      "Dataset already found on disk, downloading...\n",
      "(50, 2, 2)(50, 2, 2)\n",
      "\n",
      "<src.transforms.gp_transform.PreprocessingPipeline object at 0x7f49b42f4c40><src.transforms.gp_transform.PreprocessingPipeline object at 0x7f49b42f4c40>\n",
      "\n",
      "(50, 2, 2)\n",
      "<src.transforms.gp_transform.PreprocessingPipeline object at 0x7f49b42f4c40>\n",
      "(50, 2, 2)\n",
      "<src.transforms.gp_transform.PreprocessingPipeline object at 0x7f49b42f4c40>\n",
      "(50, 2, 2)\n",
      "<src.transforms.gp_transform.PreprocessingPipeline object at 0x7f49b42f4c40>\n"
     ]
    },
    {
     "data": {
      "text/plain": [
       "(4, 36, 212, 212)"
      ]
     },
     "execution_count": 35,
     "metadata": {},
     "output_type": "execute_result"
    }
   ],
   "source": [
    "dataset = Kh2015(\n",
    "  transform=read_config(\"examples/no_augments\")[\"pipeline\"]\n",
    ")\n",
    "\n",
    "input_shape = (36, 212, 212)\n",
    "output_shape = (12, 120, 120)\n",
    "\n",
    "dataloader = TorchZarrDataloader(\n",
    "  dataset=dataset,\n",
    "  input_shape=input_shape,\n",
    "  output_shape=output_shape,\n",
    ")\n",
    "\n",
    "def collate(x):\n",
    "  num_return_types = len(x[0])\n",
    "  return *[\n",
    "    np.stack([y[i] for y in x])\n",
    "    for i in range(num_return_types)\n",
    "  ],\n",
    "\n",
    "dataloader = torch.utils.data.DataLoader(\n",
    "  dataloader,\n",
    "  batch_size=4,\n",
    "  collate_fn=collate,\n",
    "  num_workers=5,\n",
    "  prefetch_factor=4,\n",
    ")\n",
    "\n",
    "it = iter(dataloader)\n",
    "raw, _ = next(it)\n",
    "raw.shape"
   ]
  },
  {
   "cell_type": "code",
   "execution_count": 23,
   "metadata": {},
   "outputs": [
    {
     "ename": "RuntimeError",
     "evalue": "Don't know how to add <class 'NoneType'> to Pipeline",
     "output_type": "error",
     "traceback": [
      "\u001b[0;31m---------------------------------------------------------------------------\u001b[0m",
      "\u001b[0;31mRuntimeError\u001b[0m                              Traceback (most recent call last)",
      "Cell \u001b[0;32mIn[23], line 1\u001b[0m\n\u001b[0;32m----> 1\u001b[0m sample, labels, affs, affs_weights \u001b[38;5;241m=\u001b[39m \u001b[38;5;28;43mnext\u001b[39;49m\u001b[43m(\u001b[49m\u001b[43mds_it\u001b[49m\u001b[43m)\u001b[49m\n\u001b[1;32m      2\u001b[0m sample, labels, affs, affs_weights \u001b[38;5;241m=\u001b[39m sample[\u001b[38;5;241m0\u001b[39m][\u001b[38;5;241m0\u001b[39m], labels[\u001b[38;5;241m0\u001b[39m], affs[\u001b[38;5;241m0\u001b[39m], affs_weights[\u001b[38;5;241m0\u001b[39m]\n\u001b[1;32m      3\u001b[0m start_end \u001b[38;5;241m=\u001b[39m  (\u001b[38;5;241m212\u001b[39m\u001b[38;5;241m-\u001b[39m\u001b[38;5;241m120\u001b[39m)\u001b[38;5;241m/\u001b[39m\u001b[38;5;241m/\u001b[39m\u001b[38;5;241m2\u001b[39m\n",
      "File \u001b[0;32m~/github/autoseg/src/datasets/zarr_dataset.py:167\u001b[0m, in \u001b[0;36mGunpowderZarrDataset.request_batch\u001b[0;34m(self, pipeline, input_shape, output_shape)\u001b[0m\n\u001b[1;32m    163\u001b[0m pipeline \u001b[38;5;241m+\u001b[39m\u001b[38;5;241m=\u001b[39m gp\u001b[38;5;241m.\u001b[39mPad(\u001b[38;5;28mself\u001b[39m\u001b[38;5;241m.\u001b[39mlabels, labels_padding)\n\u001b[1;32m    164\u001b[0m pipeline \u001b[38;5;241m+\u001b[39m\u001b[38;5;241m=\u001b[39m gp\u001b[38;5;241m.\u001b[39mPad(\u001b[38;5;28mself\u001b[39m\u001b[38;5;241m.\u001b[39mlabels_mask, labels_padding)\n\u001b[0;32m--> 167\u001b[0m pipeline \u001b[38;5;241m+\u001b[39m\u001b[38;5;241m=\u001b[39m user_pipeline\n\u001b[1;32m    168\u001b[0m pipeline \u001b[38;5;241m+\u001b[39m\u001b[38;5;241m=\u001b[39m gp\u001b[38;5;241m.\u001b[39mRandomLocation(mask\u001b[38;5;241m=\u001b[39m\u001b[38;5;28mself\u001b[39m\u001b[38;5;241m.\u001b[39mlabels_mask, min_masked\u001b[38;5;241m=\u001b[39m\u001b[38;5;241m0.1\u001b[39m)\n\u001b[1;32m    169\u001b[0m pipeline \u001b[38;5;241m+\u001b[39m\u001b[38;5;241m=\u001b[39m \u001b[38;5;28mself\u001b[39m\u001b[38;5;241m.\u001b[39mpost_pipeline\n",
      "File \u001b[0;32m~/miniforge3/envs/segmentation/lib/python3.9/site-packages/gunpowder/pipeline.py:162\u001b[0m, in \u001b[0;36mPipeline.__add__\u001b[0;34m(self, other)\u001b[0m\n\u001b[1;32m    159\u001b[0m     result\u001b[38;5;241m.\u001b[39mtraverse(add_self_to_leaves, reverse\u001b[38;5;241m=\u001b[39m\u001b[38;5;28;01mTrue\u001b[39;00m)\n\u001b[1;32m    161\u001b[0m \u001b[38;5;28;01melse\u001b[39;00m:\n\u001b[0;32m--> 162\u001b[0m     \u001b[38;5;28;01mraise\u001b[39;00m \u001b[38;5;167;01mRuntimeError\u001b[39;00m(\u001b[38;5;124mf\u001b[39m\u001b[38;5;124m\"\u001b[39m\u001b[38;5;124mDon\u001b[39m\u001b[38;5;124m'\u001b[39m\u001b[38;5;124mt know how to add \u001b[39m\u001b[38;5;132;01m{\u001b[39;00m\u001b[38;5;28mtype\u001b[39m(other)\u001b[38;5;132;01m}\u001b[39;00m\u001b[38;5;124m to Pipeline\u001b[39m\u001b[38;5;124m\"\u001b[39m)\n\u001b[1;32m    164\u001b[0m \u001b[38;5;28;01mreturn\u001b[39;00m result\n",
      "\u001b[0;31mRuntimeError\u001b[0m: Don't know how to add <class 'NoneType'> to Pipeline"
     ]
    }
   ],
   "source": [
    "sample, labels, affs, affs_weights = next(ds_it)\n",
    "sample, labels, affs, affs_weights = sample[0][0], labels[0], affs[0], affs_weights[0]\n",
    "start_end =  (212-120)//2\n",
    "sample = sample[18,start_end:-start_end,start_end:-start_end]\n",
    "labels = labels[6]\n",
    "affs = affs[:,6,:,:].transpose(1, 2, 0).astype(np.float32)\n",
    "print(labels.shape)\n",
    "print(affs.shape)\n",
    "print(affs[0,0])\n",
    "#print(affs)\n",
    "# show 2 images both sample and labels\n",
    "fig, ax = plt.subplots(3, 1, figsize=(15, 10))\n",
    "ax[0].axis(\"off\")\n",
    "ax[0].imshow(sample, cmap=\"gray\")\n",
    "ax[1].axis(\"off\")\n",
    "ax[1].imshow(labels, cmap=\"jet\")\n",
    "ax[2].axis(\"off\")\n",
    "ax[2].imshow(affs)\n",
    "plt.show()"
   ]
  },
  {
   "cell_type": "code",
   "execution_count": null,
   "metadata": {},
   "outputs": [],
   "source": [
    "#roi = gp.Coordinate(ds.shape) / 2 * ds.voxel_size \n",
    "#sample, *_ = ds[roi]\n",
    "#plt.axis(\"off\")\n",
    "#plt.imshow(sample, cmap=\"gray\");"
   ]
  }
 ],
 "metadata": {
  "kernelspec": {
   "display_name": "segmentation",
   "language": "python",
   "name": "python3"
  },
  "language_info": {
   "codemirror_mode": {
    "name": "ipython",
    "version": 3
   },
   "file_extension": ".py",
   "mimetype": "text/x-python",
   "name": "python",
   "nbconvert_exporter": "python",
   "pygments_lexer": "ipython3",
   "version": "3.9.18"
  }
 },
 "nbformat": 4,
 "nbformat_minor": 2
}
